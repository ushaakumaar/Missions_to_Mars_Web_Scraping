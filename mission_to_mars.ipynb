{
 "cells": [
  {
   "cell_type": "markdown",
   "metadata": {},
   "source": [
    "# Import Dependencies"
   ]
  },
  {
   "cell_type": "code",
   "execution_count": 6,
   "metadata": {},
   "outputs": [],
   "source": [
    "from bs4 import BeautifulSoup\n",
    "from splinter import Browser\n",
    "import pandas as pd\n",
    "import time"
   ]
  },
  {
   "cell_type": "markdown",
   "metadata": {},
   "source": [
    "# Init Splinter Browser"
   ]
  },
  {
   "cell_type": "code",
   "execution_count": 3,
   "metadata": {},
   "outputs": [],
   "source": [
    "# MAC\n",
    "# executable_path = { 'executable_path': '/usr/local/bin/chromedriver' }\n",
    "\n",
    "# WINDOWS\n",
    "executable_path = {'executable_path': 'chromedriver.exe'}\n",
    "browser = Browser('chrome', **executable_path, headless=False)"
   ]
  },
  {
   "cell_type": "markdown",
   "metadata": {},
   "source": [
    "# Scrape - NASA Mars News"
   ]
  },
  {
   "cell_type": "code",
   "execution_count": 7,
   "metadata": {},
   "outputs": [
    {
     "name": "stdout",
     "output_type": "stream",
     "text": [
      "MOXIE Could Help Future Rockets Launch Off Mars\n",
      "NASA's Perseverance rover carries a device to convert Martian air into oxygen that, if produced on a larger scale, could be used not just for breathing, but also for fuel.\n"
     ]
    }
   ],
   "source": [
    "# URL of page to be scraped\n",
    "url1 = 'https://mars.nasa.gov/news/?page=0&per_page=40&order=publish_date+desc%2Ccreated_at+desc&search=&category=19%2C165%2C184%2C204&blank_scope=Latest'\n",
    "\n",
    "# Open webpage\n",
    "browser.visit(url1)\n",
    "\n",
    "# Wait 3 seconds for the page to load before scraping\n",
    "time.sleep(3)\n",
    "\n",
    "# Retrieve HTML webpage source\n",
    "html1 = browser.html\n",
    "\n",
    "# Parse HTML webpage source using BeautifulSoup\n",
    "soup1 = BeautifulSoup(html1, 'html.parser')\n",
    "\n",
    "# Scrape the latest news title and paragraph\n",
    "result1 = soup1.find('div', class_='list_text')\n",
    "news_title = result1.find('div', class_='content_title').text\n",
    "news_p = result1.find(\"div\", class_=\"article_teaser_body\").text\n",
    "print(news_title)\n",
    "print(news_p)"
   ]
  },
  {
   "cell_type": "markdown",
   "metadata": {},
   "source": [
    "# Scrape - JPL Mars Space Images - Featured Image"
   ]
  },
  {
   "cell_type": "code",
   "execution_count": 12,
   "metadata": {},
   "outputs": [
    {
     "name": "stdout",
     "output_type": "stream",
     "text": [
      "https://www.jpl.nasa.gov/spaceimages/images/wallpaper/PIA17009-1920x1200.jpg\n"
     ]
    }
   ],
   "source": [
    "# URL of page to be scraped\n",
    "url2 = 'https://www.jpl.nasa.gov/spaceimages/?search=&category=Mars'\n",
    "\n",
    "# Open webpage\n",
    "browser.visit(url2)\n",
    "\n",
    "# Retrieve HTML webpage source\n",
    "html2 = browser.html\n",
    "\n",
    "# Parse HTML webpage source using BeautifulSoup\n",
    "soup2 = BeautifulSoup(html2, 'html.parser')\n",
    "\n",
    "# Scrape the Featured Image URL\n",
    "divs = soup2.find('div', class_='carousel_items')\n",
    "article = divs.find('article', class_='carousel_item')\n",
    "featured_img = article['style'].split(\"url('\")[1].split(\"');\")[0]\n",
    "featured_image_url = f'https://www.jpl.nasa.gov{featured_img}'\n",
    "print(featured_image_url)"
   ]
  },
  {
   "cell_type": "markdown",
   "metadata": {},
   "source": [
    "# Scrape - Mars Facts"
   ]
  },
  {
   "cell_type": "code",
   "execution_count": 13,
   "metadata": {},
   "outputs": [
    {
     "name": "stdout",
     "output_type": "stream",
     "text": [
      "<table border=\"0\" class=\"dataframe table table-striped\">\n",
      "  <thead>\n",
      "    <tr style=\"text-align: left;\">\n",
      "      <th>Description</th>\n",
      "      <th>Mars</th>\n",
      "    </tr>\n",
      "  </thead>\n",
      "  <tbody>\n",
      "    <tr>\n",
      "      <td>Equatorial Diameter:</td>\n",
      "      <td>6,792 km</td>\n",
      "    </tr>\n",
      "    <tr>\n",
      "      <td>Polar Diameter:</td>\n",
      "      <td>6,752 km</td>\n",
      "    </tr>\n",
      "    <tr>\n",
      "      <td>Mass:</td>\n",
      "      <td>6.39 × 10^23 kg (0.11 Earths)</td>\n",
      "    </tr>\n",
      "    <tr>\n",
      "      <td>Moons:</td>\n",
      "      <td>2 (Phobos &amp; Deimos)</td>\n",
      "    </tr>\n",
      "    <tr>\n",
      "      <td>Orbit Distance:</td>\n",
      "      <td>227,943,824 km (1.38 AU)</td>\n",
      "    </tr>\n",
      "    <tr>\n",
      "      <td>Orbit Period:</td>\n",
      "      <td>687 days (1.9 years)</td>\n",
      "    </tr>\n",
      "    <tr>\n",
      "      <td>Surface Temperature:</td>\n",
      "      <td>-87 to -5 °C</td>\n",
      "    </tr>\n",
      "    <tr>\n",
      "      <td>First Record:</td>\n",
      "      <td>2nd millennium BC</td>\n",
      "    </tr>\n",
      "    <tr>\n",
      "      <td>Recorded By:</td>\n",
      "      <td>Egyptian astronomers</td>\n",
      "    </tr>\n",
      "  </tbody>\n",
      "</table>\n"
     ]
    }
   ],
   "source": [
    "# URL of page to be scraped\n",
    "url3 = 'https://space-facts.com/mars/'\n",
    "\n",
    "# Use Pandas to scrape the tables from the URL\n",
    "dfs = pd.read_html(url3)\n",
    "\n",
    "# Mars fact Dataframe \n",
    "mars_fact_df = dfs[0]\n",
    "mars_fact_df = mars_fact_df.rename(columns={0:'Description',\n",
    "                                            1:'Mars'})\n",
    "\n",
    "# Convert the data to a HTML table string\n",
    "mars_fact_html_string = mars_fact_df.to_html(index=False, classes=['table','table-striped'], border=0, justify='left')\n",
    "print(mars_fact_html_string)"
   ]
  },
  {
   "cell_type": "markdown",
   "metadata": {},
   "source": [
    "# Scrape - Mars Hemispheres"
   ]
  },
  {
   "cell_type": "code",
   "execution_count": 14,
   "metadata": {},
   "outputs": [
    {
     "data": {
      "text/plain": [
       "['Cerberus Hemisphere Enhanced',\n",
       " 'Schiaparelli Hemisphere Enhanced',\n",
       " 'Syrtis Major Hemisphere Enhanced',\n",
       " 'Valles Marineris Hemisphere Enhanced']"
      ]
     },
     "execution_count": 14,
     "metadata": {},
     "output_type": "execute_result"
    }
   ],
   "source": [
    "# URL of page to be scraped\n",
    "url4 = 'https://astrogeology.usgs.gov/search/results?q=hemisphere+enhanced&k1=target&v1=Mars'\n",
    "\n",
    "# Open webpage\n",
    "browser.visit(url4)\n",
    "\n",
    "# Retrieve HTML webpage source\n",
    "html3 = browser.html\n",
    "\n",
    "# Parse HTML webpage source using BeautifulSoup\n",
    "soup3 = BeautifulSoup(html3, 'html.parser')\n",
    "\n",
    "# Scrape the Mars Hemisphere Titles\n",
    "h3s = soup3.find_all('h3')\n",
    "hemisphere_links = [h3.text for h3 in h3s]\n",
    "hemisphere_links"
   ]
  },
  {
   "cell_type": "code",
   "execution_count": 15,
   "metadata": {},
   "outputs": [
    {
     "data": {
      "text/plain": [
       "[{'title': 'Cerberus Hemisphere Enhanced',\n",
       "  'img_url': 'https://astropedia.astrogeology.usgs.gov/download/Mars/Viking/cerberus_enhanced.tif/full.jpg'},\n",
       " {'title': 'Schiaparelli Hemisphere Enhanced',\n",
       "  'img_url': 'https://astropedia.astrogeology.usgs.gov/download/Mars/Viking/schiaparelli_enhanced.tif/full.jpg'},\n",
       " {'title': 'Syrtis Major Hemisphere Enhanced',\n",
       "  'img_url': 'https://astropedia.astrogeology.usgs.gov/download/Mars/Viking/syrtis_major_enhanced.tif/full.jpg'},\n",
       " {'title': 'Valles Marineris Hemisphere Enhanced',\n",
       "  'img_url': 'https://astropedia.astrogeology.usgs.gov/download/Mars/Viking/valles_marineris_enhanced.tif/full.jpg'}]"
      ]
     },
     "execution_count": 15,
     "metadata": {},
     "output_type": "execute_result"
    }
   ],
   "source": [
    "# Variable to hold the list of Mars Hemisphere dictionary\n",
    "hemisphere_image_urls = []\n",
    "\n",
    "# Loop through the Mars Hemisphere Titles\n",
    "for hemisphere_link in hemisphere_links:\n",
    "    \n",
    "    # Find the link with the title and click on the link\n",
    "    browser.links.find_by_partial_text(hemisphere_link).click()\n",
    "    \n",
    "    # Retrieve HTML webpage source\n",
    "    html4 = browser.html\n",
    "    \n",
    "    # Parse HTML webpage source using BeautifulSoup\n",
    "    soup4 = BeautifulSoup(html4, 'html.parser')\n",
    "\n",
    "    # Scrape the image url string for the full resolution hemisphere image\n",
    "    original_imgs = soup4.find_all('a', href=True, text='Sample')\n",
    "    for original_img in original_imgs:\n",
    "        original_img_url = original_img['href']\n",
    "\n",
    "    # Scrape the Hemisphere title containing the hemisphere name\n",
    "    title_tag = soup4.find('h2', class_='title')\n",
    "    title = title_tag.text\n",
    "\n",
    "    # Add the Mars Hemisphere dictionary to the list\n",
    "    hemisphere_image_urls.append({'title': title, 'img_url':original_img_url})\n",
    "\n",
    "    # Go back to previous page\n",
    "    browser.visit(url4)\n",
    "\n",
    "hemisphere_image_urls"
   ]
  },
  {
   "cell_type": "code",
   "execution_count": null,
   "metadata": {},
   "outputs": [],
   "source": []
  }
 ],
 "metadata": {
  "kernelspec": {
   "display_name": "Python [conda env:PythonData] *",
   "language": "python",
   "name": "conda-env-PythonData-py"
  },
  "language_info": {
   "codemirror_mode": {
    "name": "ipython",
    "version": 3
   },
   "file_extension": ".py",
   "mimetype": "text/x-python",
   "name": "python",
   "nbconvert_exporter": "python",
   "pygments_lexer": "ipython3",
   "version": "3.6.10"
  }
 },
 "nbformat": 4,
 "nbformat_minor": 4
}
